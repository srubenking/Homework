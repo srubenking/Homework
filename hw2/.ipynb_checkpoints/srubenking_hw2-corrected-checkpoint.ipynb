{
 "metadata": {
  "name": ""
 },
 "nbformat": 3,
 "nbformat_minor": 0,
 "worksheets": [
  {
   "cells": [
    {
     "cell_type": "markdown",
     "metadata": {},
     "source": [
      "Sophie Rubenking and Sydney Weiser"
     ]
    },
    {
     "cell_type": "markdown",
     "metadata": {},
     "source": [
      "###Problem 1\n",
      "\n",
      "A) The first deletion (del x) is a problem because it's assumed to be referring to a local variable x which hasn't been declared. When it is left commented it prints the global variable x. Putting 'global x' at the beginning of the function would ensure the variable x is the global variable x, not a new local one which would eliminate the error. The line that says 'del y[\"a\"]' is fine because it's referring to an element within dictionary y, not the variable itself. \n",
      "\n",
      "> \u2713\n",
      "\n",
      "B) Since x was declared as a global variable in the previous cell it remains a global variable in the following cells until it is deleted. This is why saying 'print x' prints the value of x from before. The reference for y is fine too for the same reason: it already exists and 'y[\"c\"] = 12' just adds a new element to the dictionary. The reason 'z[\"a\"] = \"b\"' doesn't work is that it's trying to add an element to a dictionary that doesn't exist.\n",
      "\n",
      "> Good.\n",
      "\n",
      "C) This is a good idea because doing that will make sure there are no global variables left over from other irrelevant cells potentially interfering and overlapping with the one you're working with.\n",
      "\n",
      "> Exactly. Great.\n"
     ]
    },
    {
     "cell_type": "markdown",
     "metadata": {},
     "source": [
      "###Problem 2\n",
      "\n",
      "Strings are immutable so when you assign variables s1, s2 and s3 they are all assigned individually to the string \"testString\". When the list variables l1, l2 and l3 are declared, they are set to the same list in memory, each pointing to list(\"testList\"). l4 doesn't point to the same list, but is instead constructed by copying out each piece of l1 to create an identical list.\n",
      "\n",
      "'s1 = s1.capitalize()' changes only s1, but 'l1[0] = \"T\"' changes the list that l1, l2 and l3 point to.\n",
      "\n",
      "> Perfect."
     ]
    },
    {
     "cell_type": "markdown",
     "metadata": {},
     "source": [
      "###Problem 3 \n",
      "\n",
      "A)"
     ]
    },
    {
     "cell_type": "code",
     "collapsed": false,
     "input": [
      "def outer(x):\n",
      "    def inner(y):\n",
      "        return x*y\n",
      "    return inner\n",
      "\n",
      "print outer(5)(10)\n",
      "del outer"
     ],
     "language": "python",
     "metadata": {},
     "outputs": [
      {
       "output_type": "stream",
       "stream": "stdout",
       "text": [
        "50\n"
       ]
      }
     ],
     "prompt_number": 6
    },
    {
     "cell_type": "markdown",
     "metadata": {},
     "source": [
      "B)"
     ]
    },
    {
     "cell_type": "code",
     "collapsed": false,
     "input": [
      "def love(x):\n",
      "    verb = \"love\"\n",
      "    def love_inner(y):\n",
      "        #!!! Given that x is the argument of love(), it'd be better to interact with in in the outer loop\n",
      "        #!!! For instance, if x == \"he\", verb = verb + \"s\"\n",
      "        #!!! Also, it'd be nice if this would work with all the pronouns of English. Not strictly necessary, but worth implementing.\n",
      "        if x == \"he\": #changes 'love' to 'loves' after 'he'\n",
      "            return x + \" \" + verb + \"s\" + \" \" + y\n",
      "        else:\n",
      "            return x + \" \" + verb + \" \" + y\n",
      "    return love_inner\n",
      "\n",
      "if __name__ == '__main__':\n",
      "    print love(\"I\")(\"Python\") == \"I love Python\"\n",
      "    print love(\"he\")(\"Python\") == \"he loves Python\"\n",
      "    del love"
     ],
     "language": "python",
     "metadata": {},
     "outputs": [
      {
       "output_type": "stream",
       "stream": "stdout",
       "text": [
        "True\n",
        "True\n"
       ]
      }
     ],
     "prompt_number": 14
    },
    {
     "cell_type": "markdown",
     "metadata": {},
     "source": [
      "C)"
     ]
    },
    {
     "cell_type": "code",
     "collapsed": false,
     "input": [
      "def love(x):\n",
      "    verb = \"love\"\n",
      "    #!!! With the change suggested above, we could get away with just one anonymous function.\n",
      "    if x== \"he\": #changes 'love' to 'loves' after 'he'\n",
      "        return lambda y: x + \" \" + verb + \"s\" + \" \" + y\n",
      "    else:\n",
      "        return lambda y: x + \" \" + verb + \" \" + y\n",
      "\n",
      "if __name__ == '__main__':\n",
      "    print love(\"I\")(\"Python\") == \"I love Python\"\n",
      "    print love(\"he\")(\"Python\") == \"he loves Python\"\n",
      "    del love"
     ],
     "language": "python",
     "metadata": {},
     "outputs": [
      {
       "output_type": "stream",
       "stream": "stdout",
       "text": [
        "True\n",
        "True\n"
       ]
      }
     ],
     "prompt_number": 15
    },
    {
     "cell_type": "markdown",
     "metadata": {},
     "source": [
      "###Problem 4\n",
      "\n",
      "Both functions contain another function within them (though outer_nonlexical() returns inner_nonlexical() instead of defining it) so they both need two sets of parens to call each function.\n",
      "\n",
      "Their different behavior is caused by the way the inner functions are defined. The first function has the inner function nested within it so the variable 'a' declared in the outer function is accessible from the inner function. The second function has returns the value of the inner function instead of defining it within it. This makes the variable 'a' invisible to the inner function and causes the \"global name 'a' is not defined\" error since it is a variable local to outer_nonlexical().\n",
      "\n",
      "> Good."
     ]
    },
    {
     "cell_type": "markdown",
     "metadata": {},
     "source": [
      "###Problem 5\n",
      "\n"
     ]
    },
    {
     "cell_type": "code",
     "collapsed": false,
     "input": [
      "tokens = [{\"word\": \"A\", \"normed\": \"a\", \"pos\": \"DT\"},\n",
      "          {\"word\": \"final\", \"normed\": \"final\", \"pos\": \"JJ\"},\n",
      "          {\"word\": \"problem\", \"normed\": \"problem\", \"pos\": \"NN\"},\n",
      "          {\"word\": \"would\", \"normed\": \"would\", \"pos\": \"MD\"},\n",
      "          {\"word\": \"be\", \"normed\": \"be\", \"pos\": \"VB\"},\n",
      "          {\"word\": \"nice\", \"normed\": \"nice\", \"pos\": \"JJ\"}]\n",
      "\n",
      "tokensRevSorted = [{'normed': 'would', 'word': 'would', 'pos': 'MD'}, \n",
      "                   {'normed': 'problem', 'word': 'problem', 'pos': 'NN'}, \n",
      "                   {'normed': 'be', 'word': 'be', 'pos': 'VB'}, \n",
      "                   {'normed': 'nice', 'word': 'nice', 'pos': 'JJ'}, \n",
      "                   {'normed': 'a', 'word': 'A', 'pos': 'DT'}, \n",
      "                   {'normed': 'final', 'word': 'final', 'pos': 'JJ'}]\n",
      "\n",
      "vowels = ['a','e','i','o','u'] #list of vowels to check for later\n",
      "\n",
      "#uses the last vowel of each word as the key to sort by alphabetically\n",
      "def keyFunc(dict_):\n",
      "    word = dict_.get('normed') #gets the normed word from the dictionary\n",
      "    for i in range(0,len(word)):\n",
      "        #!!! Good approach, except that w[-0] = w[0]. The range needs to start at 1.\n",
      "        if word[-i] in vowels: #looks from the end of the word until it finds a vowel then returns that vowel\n",
      "            return word[-i]\n",
      "            break\n",
      "\n",
      "print sorted(tokens, key=keyFunc, reverse=True) == tokensRevSorted #uses the key from earlier then reverses the order"
     ],
     "language": "python",
     "metadata": {},
     "outputs": [
      {
       "output_type": "stream",
       "stream": "stdout",
       "text": [
        "True\n"
       ]
      }
     ],
     "prompt_number": 44
    },
    {
     "cell_type": "markdown",
     "metadata": {},
     "source": [
      "###Problem 6"
     ]
    },
    {
     "cell_type": "code",
     "collapsed": false,
     "input": [
      "\"\"\"\n",
      "    This function sorts first by part of speech and then by normed word.\n",
      "    Order of POS: DT, JJ, NN, MD, VB\n",
      "\"\"\"\n",
      "    \n",
      "def cmpComplicated(tok1,tok2):\n",
      "    posDict = {'DT':1, 'JJ':2,'NN':3,'MD':4,'VB':5} #gives the pos elements a numerical value to sort by\n",
      "    tok1Pos = tok1.get('pos') \n",
      "    tok2Pos = tok2.get('pos') #gets the pos for tok1 and tok2 and assigns them to separate variables\n",
      "    if posDict.get(tok1Pos) < posDict.get(tok2Pos):\n",
      "        return -1\n",
      "    elif posDict.get(tok1Pos) == posDict.get(tok2Pos):\n",
      "        return cmp(tok1,tok2) #builtin, compares two elements and sorts alphabetically if they aren't numbers\n",
      "    elif posDict.get(tok1Pos) > posDict.get(tok2Pos):\n",
      "        return 1\n",
      "    #!!! Looks good.\n",
      "    \n",
      "complicatedSortTokens = [{'normed': 'a', 'word': 'A', 'pos': 'DT'}, \n",
      "                         {'normed': 'final', 'word': 'final', 'pos': 'JJ'}, \n",
      "                         {'normed': 'nice', 'word': 'nice', 'pos': 'JJ'}, \n",
      "                         {'normed': 'problem', 'word': 'problem', 'pos': 'NN'}, \n",
      "                         {'normed': 'would', 'word': 'would', 'pos': 'MD'}, \n",
      "                         {'normed': 'be', 'word': 'be', 'pos': 'VB'}]\n",
      "\n",
      "print sorted(tokens, cmp=cmpComplicated) ==  complicatedSortTokens"
     ],
     "language": "python",
     "metadata": {},
     "outputs": [
      {
       "output_type": "stream",
       "stream": "stdout",
       "text": [
        "True\n"
       ]
      }
     ],
     "prompt_number": 45
    },
    {
     "cell_type": "markdown",
     "metadata": {},
     "source": [
      "###Problem 7"
     ]
    },
    {
     "cell_type": "code",
     "collapsed": false,
     "input": [
      "import json\n",
      "f = open(\"cmdict7a.json\",\"r\")\n",
      "dictionary = json.load(f)\n",
      "#!!! These aren't all the vowels in the CMU dictionary, but the first characters of them. Make this clear.\n",
      "vowels = ['A','E','I','O','U']\n",
      "\n",
      "def alliteration(w1, w2):\n",
      "    \"\"\"says if w1 and w2 share the same initial consonant\"\"\"\n",
      "    #!!! This assumes all pronunciations of w1 and w2 share a first phoneme. Instead, it should check all of them.\n",
      "    w1Phon = dictionary[w1][0][0] #makes variables that store the first element from the corresponding list of phonemes\n",
      "    w2Phon = dictionary[w2][0][0]\n",
      "    #!!! Strictly speaking, this isn't testing for alliteration. For that, we compare the first consonant. \"Look\" and \"along\" alliterate.\n",
      "    if w1Phon == w2Phon: #if the first phoneme is the same then it is an alliteration\n",
      "        return True\n",
      "    else:\n",
      "        return False    \n",
      "\n",
      "def assonance(w1, w2):\n",
      "    \"\"\"says if w1 and w2 share the same first vowel\"\"\"\n",
      "    #!!! Again, this only checks the first pronunciation\n",
      "    w1Phon = dictionary[w1][0] #makes variables that store the corresponding list of phonemes\n",
      "    w2Phon = dictionary[w2][0]\n",
      "    #!!! Confusing variable name, given that it's not always a vowel at this stage.\n",
      "    #!!! I'm not a fan of this for-if-break combo. I know it's short, but explicitly setting a variable before breaking is much clearer\n",
      "    for v1 in w1Phon:\n",
      "        if v1[0] in vowels: #looks for a vowel in the first character of the phoneme string then stops\n",
      "            break\n",
      "    for v2 in w2Phon:\n",
      "        if v2[0] in vowels:\n",
      "            break\n",
      "    if v1 == v2: #if the vowels found earlier are the same it is assonant\n",
      "        return True\n",
      "    else:\n",
      "        return False\n",
      "\n",
      "def rhyme(w1, w2):\n",
      "    \"\"\"says if w1 and w2 rhyme\"\"\"\n",
      "    #!!! Again, this only checks the first pronunciation\n",
      "    w1Phon = dictionary[w1][0] #makes variables that store the corresponding list of phonemes\n",
      "    w2Phon = dictionary[w2][0]\n",
      "    v1 = None #declares v1 and v2 as empty strings so I can assign a value to them later\n",
      "    v2 = None\n",
      "    for n in range(0,len(w1Phon)):\n",
      "        #!!! Again, w1Phon[-0][0] == w1Phon[0][0], which doesn't get what you want. Take a look at \"clasp\" and \"asp\" at the end of this cell.\n",
      "        if w1Phon[-n][0] in vowels:\n",
      "            #!!! v1 is not a vowel. Why name it as such?\n",
      "            v1 = w1Phon[-n:] #looks from the end of the word till it finds a vowel phoneme then stores the following elements\n",
      "            break\n",
      "    for n in range(0,len(w2Phon)):\n",
      "        if w1Phon[-n][0] in vowels:\n",
      "            v2 = w2Phon[-n:]\n",
      "            break\n",
      "    if v1 == v2: #if the list elements following (and including) the last vowel are the same the words rhyme\n",
      "        return True\n",
      "    else:\n",
      "        return False\n",
      "\n",
      "def doTest(s, f):\n",
      "    for w1,w2,val in s:\n",
      "        ret = f(w1,w2)\n",
      "        if ret == val:\n",
      "            suc = \"PASS\"\n",
      "        else:\n",
      "            suc = \"FAIL\"\n",
      "        print \"%15s(%s, %s)\\t=%s\\t\\t%s\\t%s\\n\" %(f.__name__,w1, w2, ret, val, suc)\n",
      "\n",
      "if __name__ == '__main__':\n",
      "    test = [(\"simple\", \"sample\", True), (\"trip\", \"took\", True),\n",
      "                        (\"trip\", \"rip\", False), (\"trap\", \"sample\", False)]\n",
      "    doTest(test, alliteration)\n",
      "    \n",
      "    test = [(\"simple\", \"sample\", False), (\"trip\", \"took\", False),\n",
      "                        (\"trip\", \"rip\", True), (\"trap\", \"sample\", True)]\n",
      "    doTest(test, assonance)\n",
      "    \n",
      "    test = [(\"simple\", \"sample\", True), (\"trip\", \"rip\", True),\n",
      "                        (\"trust\", \"rip\", False), (\"through\", \"rough\", False)]\n",
      "    doTest(test, rhyme)\n",
      "    \n",
      "    print dictionary[\"clasp\"], dictionary[\"asp\"]\n",
      "    print rhyme(\"clasp\",\"asp\")\n",
      "    \n",
      "f.close()\n",
      "del f"
     ],
     "language": "python",
     "metadata": {},
     "outputs": [
      {
       "output_type": "stream",
       "stream": "stdout",
       "text": [
        "   alliteration(simple, sample)\t=True\t\tTrue\tPASS\n",
        "\n",
        "   alliteration(trip, took)\t=True\t\tTrue\tPASS\n",
        "\n",
        "   alliteration(trip, rip)\t=False\t\tFalse\tPASS\n",
        "\n",
        "   alliteration(trap, sample)\t=False\t\tFalse\tPASS\n",
        "\n",
        "      assonance(simple, sample)\t=False\t\tFalse\tPASS\n",
        "\n",
        "      assonance(trip, took)\t=False\t\tFalse\tPASS\n",
        "\n",
        "      assonance(trip, rip)\t=True\t\tTrue\tPASS\n",
        "\n",
        "      assonance(trap, sample)\t=True\t\tTrue\tPASS\n",
        "\n",
        "          rhyme(simple, sample)\t=True\t\tTrue\tPASS\n",
        "\n",
        "          rhyme(trip, rip)\t=True\t\tTrue\tPASS\n",
        "\n",
        "          rhyme(trust, rip)\t=False\t\tFalse\tPASS\n",
        "\n",
        "          rhyme(through, rough)\t=False\t\tFalse\tPASS\n",
        "\n",
        "[[u'K', u'L', u'AE', u'S', u'P']] [[u'AE', u'S', u'P']]\n",
        "False\n"
       ]
      }
     ],
     "prompt_number": 3
    },
    {
     "cell_type": "code",
     "collapsed": false,
     "input": [],
     "language": "python",
     "metadata": {},
     "outputs": []
    }
   ],
   "metadata": {}
  }
 ]
}