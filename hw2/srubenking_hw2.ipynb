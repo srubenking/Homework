{
 "metadata": {
  "name": ""
 },
 "nbformat": 3,
 "nbformat_minor": 0,
 "worksheets": [
  {
   "cells": [
    {
     "cell_type": "markdown",
     "metadata": {},
     "source": [
      "###Problem 1\n",
      "\n",
      "A) The first deletion deletes a variable and then tries to print it. The second deletion deletes an element from a dictionary but leaves the dictionary itself.\n",
      "\n",
      "B) x already exists since it was declared in the previous cell. Same with y. With z you're trying to call an element within dictionary z but dictionary z doesn't exist yet.\n",
      "\n",
      "C) It's good to do that so you don't get things mixed up between cells and end up calling something you've already declared.\n",
      "    z doesn't go through because you never declared it as an empty dictionary\n",
      "    \n",
      "    I think the problem with x is that it deletes the variable itself so it can't print it\n",
      "    \n",
      "    y works because it doesn't delete y, but one of the elements within it\n",
      "    \n",
      "    c) to keep things clean in case you try to reference or rename a variable that you've used in another cell already"
     ]
    },
    {
     "cell_type": "markdown",
     "metadata": {},
     "source": [
      "###Problem 2\n",
      "\n",
      "Strings are immutable which is why s2 and s3 don't change when you call s1.capitalize() TALK ABOUT REFERENTS IN MEMORY"
     ]
    },
    {
     "cell_type": "markdown",
     "metadata": {},
     "source": [
      "###Problem 3 \n",
      "\n",
      "A)"
     ]
    },
    {
     "cell_type": "code",
     "collapsed": false,
     "input": [
      "def outer(x):\n",
      "    def inner(y):\n",
      "        return x*y\n",
      "    return inner\n",
      "\n",
      "#enter your call to outer here.\n",
      "print outer(5)(10)\n",
      "del outer"
     ],
     "language": "python",
     "metadata": {},
     "outputs": [
      {
       "output_type": "stream",
       "stream": "stdout",
       "text": [
        "50\n"
       ]
      }
     ],
     "prompt_number": 6
    },
    {
     "cell_type": "markdown",
     "metadata": {},
     "source": [
      "B)"
     ]
    },
    {
     "cell_type": "code",
     "collapsed": false,
     "input": [
      "def love(x):\n",
      "    verb = \"love\"\n",
      "    def love_inner(y):\n",
      "        #enter your code here\n",
      "        if x != \"he\":\n",
      "            return x + \" \" + verb + \" \" + y\n",
      "        else:\n",
      "            return x + \" \" + verb + \"s\" + \" \" + y\n",
      "    return love_inner\n",
      "\n",
      "if __name__ == '__main__':\n",
      "    print love(\"I\")(\"Python\") == \"I love Python\"\n",
      "    print love(\"he\")(\"Python\") == \"he loves Python\"\n",
      "    del love"
     ],
     "language": "python",
     "metadata": {},
     "outputs": [
      {
       "output_type": "stream",
       "stream": "stdout",
       "text": [
        "True\n",
        "True\n"
       ]
      }
     ],
     "prompt_number": 14
    },
    {
     "cell_type": "markdown",
     "metadata": {},
     "source": [
      "C)"
     ]
    },
    {
     "cell_type": "code",
     "collapsed": false,
     "input": [
      "def love(x):\n",
      "    verb = \"love\"\n",
      "    # your code\n",
      "    if x!= \"he\":\n",
      "        return lambda y: x + \" \" + verb + \" \" + y\n",
      "    else:\n",
      "        return lambda y: x + \" \" + verb + \"s\" + \" \" + y\n",
      "\n",
      "if __name__ == '__main__':\n",
      "    print love(\"I\")(\"Python\") == \"I love Python\"\n",
      "    print love(\"he\")(\"Python\") == \"he loves Python\"\n",
      "    del love"
     ],
     "language": "python",
     "metadata": {},
     "outputs": [
      {
       "output_type": "stream",
       "stream": "stdout",
       "text": [
        "True\n",
        "True\n"
       ]
      }
     ],
     "prompt_number": 15
    },
    {
     "cell_type": "markdown",
     "metadata": {},
     "source": [
      "###Problem 4\n",
      "\n",
      "The reason outer() needs two sets of parentheses is clear: inner() is defined within it so it needs to be called as well when you call outer(). As for outer_nonlexical(), inner_nonlexical() might not be defined within it, but it is returned within it so it needs to be called as well. Not really sure why the \"inner = inner_nonlexical\" line is there if inner isn't used when returning it though.\n",
      "\n",
      "All that said I don't see how they behave differently, all I get is an error when I try to run the block. Or is that what he means by behaving differently? Because inner_nonlexical() isn't defined within outer_nonlexical() the \"a\" assigned in outer_nonlexical() isn't visible so it gives an error when you try to run it."
     ]
    },
    {
     "cell_type": "markdown",
     "metadata": {},
     "source": [
      "###Problem 5\n",
      "\n"
     ]
    }
   ],
   "metadata": {}
  }
 ]
}