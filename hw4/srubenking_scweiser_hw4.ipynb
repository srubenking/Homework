{
 "metadata": {
  "name": ""
 },
 "nbformat": 3,
 "nbformat_minor": 0,
 "worksheets": [
  {
   "cells": [
    {
     "cell_type": "markdown",
     "metadata": {},
     "source": [
      "####Problem 1\n",
      "\n",
      "a)"
     ]
    },
    {
     "cell_type": "code",
     "collapsed": false,
     "input": [
      "__author__ = 'scweiser and srubenking'\n",
      "\n",
      "testStr = \"\"\"Down in my sub, I wanted to\n",
      "submit to something (substantial) that wouldn't\n",
      "lead to subalterns calling in{sub}ordination, or anything else\n",
      "that I could (sub).\"\"\"\n",
      "\n",
      "import re\n",
      "subRE = re.compile(r'\\(sub\\)') #searches for '(sub)' escaping the parentheses since they have a special meaning\n",
      "out =  subRE.sub(r'$%\\\\*$1\\\\1', testStr) #substitutes '(sub)' with '$%\\*$1\\1' only escaping the backslash characters since we're not searching\n",
      "print out"
     ],
     "language": "python",
     "metadata": {},
     "outputs": [
      {
       "output_type": "stream",
       "stream": "stdout",
       "text": [
        "Down in my sub, I wanted to\n",
        "submit to something (substantial) that wouldn't\n",
        "lead to subalterns calling in{sub}ordination, or anything else\n",
        "that I could $%\\*$1\\1.\n"
       ]
      }
     ],
     "prompt_number": 3
    },
    {
     "cell_type": "markdown",
     "metadata": {},
     "source": [
      "b)"
     ]
    },
    {
     "cell_type": "code",
     "collapsed": false,
     "input": [
      "otherFind = re.compile(r'\\$\\%\\\\\\*\\$1\\\\1') #searches for '$%\\*$1\\1' this time escaping all the special characters since we're searching rather than creating\n",
      "otherFind.sub(r'(sub)', out) == testStr #substitutes '$%\\*$1\\1' with '(sub)' not escaping the parentheses since we're creating the string not searching for it"
     ],
     "language": "python",
     "metadata": {},
     "outputs": [
      {
       "metadata": {},
       "output_type": "pyout",
       "prompt_number": 4,
       "text": [
        "True"
       ]
      }
     ],
     "prompt_number": 4
    },
    {
     "cell_type": "markdown",
     "metadata": {},
     "source": [
      "####Problem 2"
     ]
    },
    {
     "cell_type": "code",
     "collapsed": false,
     "input": [
      "__author__ = 'scweiser and srubenking'\n",
      "#open and read file\n",
      "import re\n",
      "\n",
      "f = open('hw4_data/romanticism.txt', 'r')\n",
      "romBib = file.read(f)\n",
      "f.close()\n",
      "\n",
      "#defines patterns to find the titles, URLs and the content after the titles\n",
      "fRE = re.compile(r\"\"\"\n",
      "    ((?P<title>(^|(?<=\\n)).*?(?=([ ,:][ (])|:))\n",
      "    (?P<other>([ ,:]).*?(?=[:\\s]))[:\\s]\\n\n",
      "    (?P<URL>(?<=\\n).+://.+))\n",
      "\"\"\", re.VERBOSE)\n",
      "#adds anchor tags to the gathered information to create links out of them (still need to fix inclusion of colons at the end)\n",
      "output = fRE.sub(r'<a href=\"\\g<URL>\" target=\"BLANK\">\\g<title></a>\\g<other><br>',romBib)"
     ],
     "language": "python",
     "metadata": {},
     "outputs": [],
     "prompt_number": 5
    },
    {
     "cell_type": "code",
     "collapsed": false,
     "input": [
      "from IPython.display import HTML\n",
      "HTML(output)"
     ],
     "language": "python",
     "metadata": {},
     "outputs": [
      {
       "html": [
        "<a href=\"http://english.ucsb.edu:591/rchrono/\" target=\"BLANK\">Romantic Chronology</a> (UC Santa Barbara & Miami U., Ohio):<br>\n",
        "\n",
        "<a href=\"http://www.lib.ucdavis.edu/English/BWRP/index.htm\" target=\"BLANK\">British Women Romantic Poets</a>, 1789-1832 (U of Cal. Davis):<br>\n",
        "\n",
        "<a href=\"http://www.qub.ac.uk/english/shuttle/rom-chrono/chrono.htm\" target=\"BLANK\">The European Mirror of the Romantic Chronology</a> (Queen's U., Belfast):<br>\n",
        "\n",
        "<a href=\"http://etext.lib.virginia.edu/modeng.browse.html\" target=\"BLANK\">The Modern English Collection at the Electronic Center</a> (UVa)<br>\n",
        "\n",
        "<a href=\"http://etext.lib.virginia.edu/britpo.html\" target=\"BLANK\">British Poetry 1780-1910</a>: A Hypermedia Archive of Scholarly Editions (UVA), co-editor, Jerome McGann:<br>\n",
        "\n",
        "<a href=\"http://jefferson.village.virginia.edu/blake/\" target=\"BLANK\">Blake Archive</a> (hosted at UVA), directed by Morris Eaves, Robert N. Essick, and Joseph Viscomi:<br>\n",
        "\n",
        "<a href=\"gopher://dept.english.upenn.edu:70/11/Courses\" target=\"BLANK\">The UPenn Gopher</a> (with its substantial non-canonical Romantics holdings):<br>\n",
        "\n",
        "<a href=\"gopher://dept.english.upenn.edu/11/E-Text/PEAL\" target=\"BLANK\">also known as PEAL</a>: Penn English Archive and Library<br>\n",
        "\n",
        "<a href=\"http://dept.english.upenn.edu/~mgamer/Romantic/\" target=\"BLANK\">Romantic Links and Home Pages</a> (Univ.of Penna.), Michael Gamer<br>\n",
        "\n",
        "<a href=\"http://gopher.upenn.edu/pennprintout/html/v11/3/creature.html\" target=\"BLANK\">The Frankenstein Project</a> (U. Penn):<br>\n",
        "\n",
        "<a href=\"http://www.rc.umd.edu/\" target=\"BLANK\">Romantic Circles Project</a> (Second-Generation Romantics and Their Circle), major participants, Donald Reiman, Neil Fraistat, Carl Stahmer:<br>\n",
        "\n",
        "<a href=\"http://fay.english.umb.edu/\" target=\"BLANK\">Bluestocking Archive</a> (U. Mass.), Elizabeth Fay:<br>\n",
        "\n",
        "<a href=\"http://www.nottingham.ac.uk/~aezacweb/wrew.htm\" target=\"BLANK\">Romantic Women Writers Page</a> (Nottingham U., U.K.), Adriana Craciun:<br>\n",
        "\n",
        "<a href=\"http://users.ox.ac.uk/~scat0385\" target=\"BLANK\">Romanticism on the Net</a> (Oxford U., England):<br>\n",
        "\n",
        "<a href=\"http://www.ualberta.ca/~dmiall/ROMCDINF.HTM\" target=\"BLANK\">Romanticsm CD-ROM</a> (U. of Alberta):<br>\n",
        "\n",
        "<a href=\"http://www.en.utexas.edu\" target=\"BLANK\">Romanticism at UT Austin</a>, Computer Writing and Research Lab of UT Austin directed by Daniel Anderson:<br>\n",
        "\n",
        "<a href=\"http://www.cwrl.utexas.edu/~worp\" target=\"BLANK\">Women of the Romantic Period</a> (UT Austin), Daniel Anderson and Morri Safran:<br>\n",
        "\n",
        "<a href=\"http://www.usc.edu/dept/LAS/english/19c/newbooks.html\" target=\"BLANK\">New Books in 19th-Century Studies</a>:<br>\n",
        "\n",
        "<a href=\"http://www.luc.edu/publications/keats-shelley/ksjweb.htm\" target=\"BLANK\">The Keats-Shelley Journal Home Page</a>, ed. Steven E. Jones<br>\n",
        "\n",
        "<a href=\"http://lang.nagoya-u.ac.jp/~matsuoka/19th-authors.html\" target=\"BLANK\">19th Century British and Irish Authors</a>, Mitsuharu Matsuoka (Nagoya University):<br>\n",
        "\n",
        "<a href=\"http://lang.nagoya-u.ac.jp/~matsuoka/Victorian.html\" target=\"BLANK\">Victorian Web Sites</a>, Mitsuharu Matsuoka (Nagoya University):<br>\n",
        "\n"
       ],
       "metadata": {},
       "output_type": "pyout",
       "prompt_number": 6,
       "text": [
        "<IPython.core.display.HTML at 0x6377fd0>"
       ]
      }
     ],
     "prompt_number": 6
    },
    {
     "cell_type": "markdown",
     "metadata": {},
     "source": [
      "####Problem 3"
     ]
    },
    {
     "cell_type": "code",
     "collapsed": false,
     "input": [
      "__author__ = 'scweiser and srubenking'\n",
      "import re\n",
      "\n",
      "g = open (\".\\\\hw4_data\\\\ssns.txt\", \"r\")\n",
      "f = file.readlines(g)\n",
      "g.close()\n",
      "def skip(line): #defines a function to make sure each line is under 120 characters\n",
      "    if len(line) < 120:\n",
      "        return 0\n",
      "\n",
      "#defines patterns to find names (first and last), birth/death dates and ssn\n",
      "name = re.compile(r'((?<=\\n)|^)([A-Z]+), ([A-Z]+)')\n",
      "born = re.compile(r'(\\d{2} [A-Z][a-z]+ \\d{4}(?=,))|(ABT \\d{4})')\n",
      "died = re.compile(r'(\\d{2} [A-Z][a-z]+ \\d{4}(?=\\s))')\n",
      "ssn = re.compile(r'(\\d{3}-\\d{2}-\\d{4})')\n",
      "\n",
      "results = [] #initializes the results list\n",
      "if __name__ == \"__main__\":\n",
      "    for li in f: #uses the skip() function to allow the loop to continue\n",
      "        if skip(li) == 0:\n",
      "            continue\n",
      "\n",
      "        newPerson = {} #makes a dictionary to add the information to\n",
      "        \n",
      "        #searches the line using name as the search pattern\n",
      "        match = name.search(li)\n",
      "        if match: #it found something\n",
      "            newPerson[\"first\"] = match.groups()[2]\n",
      "            newPerson[\"last\"] = match.groups()[1]\n",
      "        \n",
      "        #searches the line using birth as the search pattern\n",
      "        birth = born.search(li)\n",
      "        if birth:\n",
      "            if birth.groups()[0] != None: #since some birth dates only list the approximate year check for those\n",
      "                newPerson[\"born\"] = birth.groups()[0]\n",
      "            else:\n",
      "                newPerson[\"born\"] = birth.groups()[1]\n",
      "        \n",
      "        #searches the line using ssn as the search pattern\n",
      "        SSN = ssn.search(li)\n",
      "        if SSN:\n",
      "            newPerson[\"ssn\"] = SSN.groups()[0]\n",
      "        \n",
      "        #searches the line using died as the search pattern\n",
      "        die = died.search(li)\n",
      "        if die:\n",
      "            newPerson[\"died\"] = die.groups()[0]\n",
      "        \n",
      "        results.append(newPerson) #adds the created dictionary to the results list\n",
      "\n",
      "    print results\n"
     ],
     "language": "python",
     "metadata": {},
     "outputs": [
      {
       "output_type": "stream",
       "stream": "stdout",
       "text": [
        "[{'born': '23 December 1929', 'ssn': '231-28-2235', 'last': 'ABRAMS', 'died': '03 September 2003', 'first': 'BOBBY'}, {'born': 'ABT 1932', 'last': 'ABRAMS', 'first': 'BOBBY'}, {'born': '20 October 1940', 'ssn': '412-70-1845', 'last': 'ABRAMS', 'died': '19 February 2011', 'first': 'BOBBY'}, {'born': '30 January 1930', 'ssn': '273-28-0459', 'last': 'ABRAMS', 'died': '02 December 2003', 'first': 'BOBBY'}, {'born': '28 August 1931', 'ssn': '448-28-7333', 'last': 'ABRAMS', 'died': '15 January 2009', 'first': 'BOB'}, {'born': '10 November 1910', 'ssn': '247-10-8958', 'last': 'ABRAMS', 'first': 'BOISY'}, {'born': '08 September 1954', 'ssn': '187-46-0582', 'last': 'ABRAMS', 'died': '09 February 2007', 'first': 'BOLDEN'}, {'born': '21 January 1934', 'ssn': '182-26-7882', 'last': 'ABRAMS', 'died': '11 March 2008', 'first': 'BOLDEN'}, {'born': '10 June 1906', 'ssn': '459-46-8859', 'last': 'ABRAMS', 'first': 'BONNIE'}, {'born': '16 April 1941', 'ssn': '356-34-0421', 'last': 'ABRAMS', 'died': '13 January 2000', 'first': 'BONNIE'}, {'born': 'ABT 1959', 'last': 'ABRAMS', 'first': 'BONNIE'}, {'born': '15 May 1891', 'ssn': '065-05-8195', 'last': 'ABRAMS', 'first': 'BORIS'}, {'born': '08 March 1927', 'ssn': '493-32-9021', 'last': 'ABRAMS', 'died': '22 June 2001', 'first': 'BORIS'}, {'born': '26 March 1914', 'ssn': '419-09-7246', 'last': 'ABRAMS', 'first': 'BOSE'}, {'born': 'ABT 1890', 'last': 'ABRAMS', 'first': 'B'}, {'born': '10 March 1920', 'ssn': '297-05-5931', 'last': 'ABRAMS', 'died': '22 May 1989', 'first': 'BOYD'}, {'born': '17 January 1903', 'ssn': '317-14-9691', 'last': 'ABRAMS', 'died': '29 June 1995', 'first': 'BOYD'}, {'born': '23 November 1915', 'ssn': '277-14-8828', 'last': 'ABRAMS', 'died': '01 April 1991', 'first': 'BOYD'}, {'born': '04 March 1899', 'ssn': '192-28-5193', 'last': 'ABRAMS', 'first': 'BRADLEY'}, {'born': 'ABT 1971', 'last': 'ABRAMS', 'first': 'BRENDA'}, {'born': 'ABT 1957', 'last': 'ABRAMS', 'first': 'BRENDA'}, {'born': 'ABT 1957', 'last': 'ABRAMS', 'first': 'BRENDA'}, {'born': '06 May 1947', 'ssn': '102-40-0129', 'last': 'ABRAMS', 'died': '04 April 2011', 'first': 'BRENDA'}, {'born': '31 July 1960', 'ssn': '055-56-2703', 'last': 'ABRAMS', 'died': '13 May 2006', 'first': 'BRENDA'}, {'born': '25 May 1955', 'ssn': '518-70-2249', 'last': 'ABRAMS', 'died': '13 September 2002', 'first': 'BRENT'}, {'born': '31 October 1969', 'ssn': '059-62-0759', 'last': 'ABRAMS', 'died': '02 June 1989', 'first': 'BRIAN'}, {'born': 'ABT 1954', 'last': 'ABRAMS', 'first': 'BRIAN'}, {'born': '10 June 1964', 'ssn': '118-62-4999', 'last': 'ABRAMS', 'died': '06 August 2013', 'first': 'BRIAN'}, {'born': '02 June 1959', 'ssn': '314-72-7401', 'last': 'ABRAMS', 'died': '20 November 2007', 'first': 'BRIAN'}, {'born': '16 December 1937', 'ssn': '334-30-0087', 'last': 'ABRAMS', 'died': '05 March 2008', 'first': 'BRIAN'}, {'born': '22 April 1956', 'ssn': '329-54-9562', 'last': 'ABRAMS', 'died': '03 July 2003', 'first': 'BRIAN'}, {'born': '19 February 1962', 'ssn': '549-11-5463', 'last': 'ABRAMS', 'died': '05 December 2007', 'first': 'BRIAN'}, {'born': '02 December 1952', 'ssn': '266-88-5504', 'last': 'ABRAMS', 'died': '23 November 1997', 'first': 'BRIAN'}, {'born': '05 October 1908', 'ssn': '064-16-1504', 'last': 'ABRAMS', 'died': '28 November 2000', 'first': 'BRONNY'}, {'born': '19 October 1903', 'ssn': '112-18-8415', 'last': 'ABRAMS', 'died': '10 December 1999', 'first': 'BROUCHA'}, {'born': '01 February 1942', 'ssn': '247-70-0202', 'last': 'ABRAMS', 'first': 'BRUCE'}, {'born': '10 April 1938', 'ssn': '403-52-1002', 'last': 'ABRAMS', 'died': '13 November 2006', 'first': 'BRUCE'}, {'born': '11 June 1946', 'ssn': '017-34-5842', 'last': 'ABRAMS', 'died': '29 January 2010', 'first': 'BRUCE'}, {'born': '17 April 1954', 'ssn': '407-84-6662', 'last': 'ABRAMS', 'died': '14 August 2002', 'first': 'BRUCE'}, {'born': '23 June 1950', 'ssn': '125-38-9925', 'last': 'ABRAMS', 'first': 'BRUCE'}, {'last': 'ABRAMS', 'died': '18 June 1971', 'first': 'BRUCE'}, {'born': '20 August 1961', 'ssn': '350-60-8473', 'last': 'ABRAMS', 'died': '12 December 1999', 'first': 'BRUCE'}, {'born': 'ABT 1947', 'last': 'ABRAMS', 'first': 'BRUCE'}, {'born': 'ABT 1947', 'last': 'ABRAMS', 'first': 'BRUCE'}, {'born': 'ABT 1955', 'last': 'ABRAMS', 'first': 'BRUCE'}, {'born': '02 September 1994', 'ssn': '159-76-1092', 'last': 'ABRAMS', 'died': '26 March 2012', 'first': 'BRYAN'}, {'born': '25 January 1918', 'ssn': '571-36-8819', 'last': 'ABRAMS', 'first': 'BRYCE'}, {'born': '26 July 1929', 'ssn': '214-26-8819', 'last': 'ABRAMS', 'died': '09 January 2000', 'first': 'BUDELL'}, {'born': '30 May 1951', 'ssn': '421-70-3383', 'last': 'ABRAMS', 'died': '24 August 2007', 'first': 'BUD'}, {'born': '15 November 1910', 'ssn': '225-28-2842', 'last': 'ABRAMS', 'first': 'BUFER'}, {'last': 'ABRAMS', 'first': 'B'}, {'born': '01 April 1932', 'ssn': '400-40-1862', 'last': 'ABRAMS', 'died': '08 April 2013', 'first': 'BURGESS'}, {'born': '08 July 1945', 'ssn': '416-66-9028', 'last': 'ABRAMS', 'first': 'BURKE'}, {'born': '10 May 1971', 'ssn': '324-76-9687', 'last': 'ABRAMS', 'died': '28 March 1995', 'first': 'BURKE'}, {'born': '30 October 1911', 'ssn': '400-32-3391', 'last': 'ABRAMS', 'died': '12 November 2010', 'first': 'BURNACE'}, {'born': '17 May 1935', 'ssn': '403-48-4886', 'last': 'ABRAMS', 'died': '03 November 1996', 'first': 'BURTON'}, {'born': '22 July 1926', 'ssn': '288-22-7662', 'last': 'ABRAMS', 'died': '15 August 1994', 'first': 'BURTON'}, {'born': '03 November 1923', 'ssn': '084-14-3261', 'last': 'ABRAMS', 'died': '23 September 1994', 'first': 'BURTON'}, {'born': '19 December 1935', 'ssn': '098-28-4367', 'last': 'ABRAMS', 'died': '10 November 1995', 'first': 'BURTON'}, {'born': '14 September 1893', 'ssn': '422-18-9832', 'last': 'ABRAMS', 'first': 'BYRON'}, {'born': '16 April 1929', 'ssn': '416-34-7145', 'last': 'ABRAMS', 'died': '27 March 2007', 'first': 'BYRON'}, {'born': '02 October 1954', 'ssn': '016-48-3855', 'last': 'ABRAMS', 'first': 'C'}, {'born': '09 December 1933', 'ssn': '096-26-1173', 'last': 'ABRAMS', 'died': '15 December 1988', 'first': 'C'}, {'born': '12 July 1910', 'ssn': '523-09-7536', 'last': 'ABRAMS', 'first': 'C'}, {'born': '13 October 1948', 'ssn': '107-40-1063', 'last': 'ABRAMS', 'first': 'C'}, {'born': '14 January 1929', 'ssn': '129-38-0800', 'last': 'ABRAMS', 'first': 'C'}, {'born': '16 March 1900', 'ssn': '290-28-7837', 'last': 'ABRAMS', 'first': 'C'}, {'born': '22 October 1905', 'ssn': '442-03-2743', 'last': 'ABRAMS', 'first': 'C'}, {'born': '26 January 1941', 'ssn': '233-64-9421', 'last': 'ABRAMS', 'died': '15 August 1991', 'first': 'C'}, {'born': '27 March 1882', 'ssn': '558-10-8299', 'last': 'ABRAMS', 'first': 'C'}, {'born': '25 April 1912', 'ssn': '072-16-8326', 'last': 'ABRAMS', 'died': '16 March 1995', 'first': 'CALBRAITH'}, {'born': '01 July 1913', 'ssn': '327-01-8229', 'last': 'ABRAMS', 'first': 'CALVIN'}, {'born': '03 August 1939', 'ssn': '357-32-9977', 'last': 'ABRAMS', 'died': '16 February 2013', 'first': 'CALVIN'}, {'born': '15 January 1927', 'ssn': '204-14-0422', 'last': 'ABRAMS', 'died': '14 September 2002', 'first': 'CALVIN'}, {'born': '02 March 1924', 'ssn': '100-12-2480', 'last': 'ABRAMS', 'died': '25 February 1997', 'first': 'CALVIN'}, {'born': '04 February 1914', 'ssn': '335-01-4627', 'last': 'ABRAMS', 'died': '31 December 1994', 'first': 'CAMILLE'}, {'born': '08 October 1934', 'ssn': '319-30-5646', 'last': 'ABRAMS', 'died': '14 February 2011', 'first': 'CANDIDA'}, {'born': 'ABT 1969', 'last': 'ABRAMS', 'first': 'CANDINA'}, {'born': 'ABT 1968', 'last': 'ABRAMS', 'first': 'CANDUS'}, {'born': '22 February 1914', 'ssn': '263-16-5419', 'last': 'ABRAMS', 'first': 'CANNA'}, {'born': '06 August 1911', 'ssn': '441-36-1249', 'last': 'ABRAMS', 'died': '19 November 2010', 'first': 'CAPTIOLIA'}, {'born': '02 February 1880', 'ssn': '292-10-3526', 'last': 'ABRAMS', 'first': 'CARL'}, {'born': '03 April 1893', 'ssn': '562-10-5868', 'last': 'ABRAMS', 'first': 'CARL'}, {'born': '03 June 1914', 'ssn': '063-03-6276', 'last': 'ABRAMS', 'first': 'CARL'}, {'born': '04 February 1917', 'ssn': '275-16-3319', 'last': 'ABRAMS', 'first': 'CARL'}, {'born': '04 February 1918', 'ssn': '427-14-1672', 'last': 'ABRAMS', 'died': '04 April 1985', 'first': 'CARL'}]\n"
       ]
      }
     ],
     "prompt_number": 7
    },
    {
     "cell_type": "markdown",
     "metadata": {},
     "source": [
      "####Problem 4"
     ]
    },
    {
     "cell_type": "code",
     "collapsed": false,
     "input": [
      "__author__ = 'scweiser and srubenking'\n",
      "\n",
      "import re\n",
      "from IPython.display import HTML\n",
      "\n",
      "def addHTMLbold(word, string, tag):\n",
      "    \"\"\"\n",
      "    this looks for word in string, and wraps all occurrences with tag and end_tag\n",
      "    args:\n",
      "    word (to tag), string (to search within), tag (to use)\n",
      "    returns:\n",
      "    string with the tags around the words\n",
      "    \"\"\"\n",
      "    wordRE = re.compile(r'\\b' + word + r'\\b') #defines a pattern to find the inputted word (only if it is on its own)\n",
      "    splitString = string.split() #splits the string into a list of words so it can be edited\n",
      "    #loop through the matches to the string one at a time\n",
      "    for m in wordRE.finditer(string):\n",
      "        found = string[m.start():m.end()]\n",
      "        tagged = '<' + tag + '>' + found + '</' + tag + '>' #creates the tagged string\n",
      "        #looks in the split string and if the word matches the found word, replace it with the tagged word\n",
      "        for el in range (0,len(splitString)):\n",
      "            if splitString[el] == found:\n",
      "                splitString[el] = tagged\n",
      "    output = ' '.join(splitString) #joins the list back into a string with spaces in between\n",
      "    return output\n",
      "\n",
      "mod = addHTMLbold(\"test\", \"This is a test testy to see what testy retests test out\", \"em\")\n",
      "HTML(mod)\n",
      "mod2 = addHTMLbold(\"is\", mod, \"strong\")\n",
      "HTML(mod2)"
     ],
     "language": "python",
     "metadata": {},
     "outputs": [
      {
       "html": [
        "This <strong>is</strong> a <em>test</em> testy to see what testy retests <em>test</em> out"
       ],
       "metadata": {},
       "output_type": "pyout",
       "prompt_number": 8,
       "text": [
        "<IPython.core.display.HTML at 0x637cc88>"
       ]
      }
     ],
     "prompt_number": 8
    },
    {
     "cell_type": "code",
     "collapsed": false,
     "input": [],
     "language": "python",
     "metadata": {},
     "outputs": [],
     "prompt_number": 8
    },
    {
     "cell_type": "code",
     "collapsed": false,
     "input": [],
     "language": "python",
     "metadata": {},
     "outputs": [],
     "prompt_number": 8
    },
    {
     "cell_type": "code",
     "collapsed": false,
     "input": [],
     "language": "python",
     "metadata": {},
     "outputs": []
    }
   ],
   "metadata": {}
  }
 ]
}