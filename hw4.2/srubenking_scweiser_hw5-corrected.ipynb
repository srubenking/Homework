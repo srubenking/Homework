{
 "metadata": {
  "name": ""
 },
 "nbformat": 3,
 "nbformat_minor": 0,
 "worksheets": [
  {
   "cells": [
    {
     "cell_type": "markdown",
     "metadata": {},
     "source": [
      "####Problem 5"
     ]
    },
    {
     "cell_type": "code",
     "collapsed": false,
     "input": [
      "import re\n",
      "\n",
      "def splitWithHTML(text):\n",
      "    '''\n",
      "    this function splits a string into a list on instances of:\n",
      "        <one or more of any character, non-greedy, when within brackets>\n",
      "        <also includes instances where there's more than one end bracket or quotation marks nested within the brackets>>\">\n",
      "    '''\n",
      "    vs =re.split(r'(<.+?>>?\"?>?)', text) \n",
      "    #!!! Great. Maybe more readable using lookahead? <.*?>(?![>\"])\n",
      "    print vs\n",
      "\n",
      "text = \"\"\"\n",
      "<html>\n",
      "<head><title>This is the title</title>\n",
      "<body onload=\"javascript blah blah>>\">This is what <b>is happening <i> to us</i></b></body>\n",
      "<html>\"\"\"\n",
      "\n",
      "splitWithHTML(text)"
     ],
     "language": "python",
     "metadata": {},
     "outputs": [
      {
       "output_type": "stream",
       "stream": "stdout",
       "text": [
        "['\\n', '<html>', '\\n', '<head>', '', '<title>', 'This is the title', '</title>', '\\n', '<body onload=\"javascript blah blah>>\">', 'This is what ', '<b>', 'is happening ', '<i>', ' to us', '</i>', '', '</b>', '', '</body>', '\\n', '<html>', '']\n"
       ]
      }
     ],
     "prompt_number": 1
    },
    {
     "cell_type": "markdown",
     "metadata": {},
     "source": [
      "####Problem 6"
     ]
    },
    {
     "cell_type": "code",
     "collapsed": false,
     "input": [
      "import re\n",
      "\n",
      "f = open('hw4_data/roster.txt','r')\n",
      "\n",
      "splitRE = re.compile(r'(?:[ \\t]*<td>[ \\t]*|[ \\t]*</td>[ \\t]*<td>[ \\t]*|[ \\t]*</td>[ \\t]*)')\n",
      "'''\n",
      "splits a string by either:\n",
      "    (beginning of line)\n",
      "        zero or more spaces or tabs <td> zero or more spaces or tabs\n",
      "    (in between entries)\n",
      "        zero or more spaces or tabs </td> zero or more spaces or tabs <td> zero or more spaces or tabs\n",
      "    (end of line)\n",
      "        zero or more spaces or tabs </td> zero or more spaces or tabs\n",
      "'''\n",
      "#!!! Nice comments here. Use the verbose flag and you can interweave them.\n",
      "#!!! As long as you're collecting things you don't really need, this could be simplified: \\s*</?td>\\s*\n",
      "#!!! You'd then use indexes 17, 3, and 5.\n",
      "for li in f:\n",
      "    splitList = splitRE.split(li)#for each line splits the string into a list of entries\n",
      "    print '%-20s' % splitList[9], '%-22s' % splitList[3], '%-8s' % splitList[5] # prints the email, last name and major using padded cells because it's prettier\n",
      "    #!!! Very nice formatting\n",
      "f.close()"
     ],
     "language": "python",
     "metadata": {},
     "outputs": [
      {
       "output_type": "stream",
       "stream": "stdout",
       "text": [
        "crjimene@ucsc.edu    Jimenez                LINGBA  \n",
        "mikovach@ucsc.edu    Kovach                 LANGBA  \n",
        "scweiser@ucsc.edu    Weiser                 PHYSBS  \n",
        "jahuizar@ucsc.edu    Huizar                 LINGBA  \n",
        "matitone@ucsc.edu    Titone                 LINGBA  \n",
        "srubenki@ucsc.edu    Rubenking              LANGBA  \n",
        "mcmata@ucsc.edu      Mata                   LINGBA  \n",
        "vvanegas@ucsc.edu    Vanegas                LINGBA  \n",
        "wmbuchan@ucsc.edu    Buchanan               LINGBA  \n",
        "lrchan@ucsc.edu      Chan                   LINGBA  \n",
        "sfsander@ucsc.edu    Sanders                LINGBA  \n",
        "shmbianc@ucsc.edu    Bianchi                LINGBA  \n",
        "sewinn@ucsc.edu      Winn                   LINGBA  \n",
        "skano@ucsc.edu       Erskine                LINGBA  \n",
        "eswong@ucsc.edu      Wong                   LINGBA  \n",
        "tcorcora@ucsc.edu    Corcoran               LINGBA  \n",
        "ksheets@ucsc.edu     Sheets                 LINGBA  \n",
        "arzavala@ucsc.edu    Zavala                 LINGBA  \n",
        "sclothie@ucsc.edu    Clothier-Goldschmidt   LINGBA  \n",
        "neggert@ucsc.edu     Eggert                 PHILBA  \n",
        "rastle@ucsc.edu      Astle                  LINGBA  \n",
        "chanmill@ucsc.edu    Miller                 LINGBA  \n",
        "sneace@ucsc.edu      Neace                  LINGBA  \n",
        "stgarcia@ucsc.edu    Garcia                 LINGBA  \n"
       ]
      }
     ],
     "prompt_number": 6
    },
    {
     "cell_type": "markdown",
     "metadata": {},
     "source": [
      "####Problem 7"
     ]
    },
    {
     "cell_type": "code",
     "collapsed": false,
     "input": [
      "import re\n",
      "\n",
      "p = open('hw4_data/healthcare.txt','r')\n",
      "healthcare = file.read(p)\n",
      "p.close()\n",
      "\n",
      "sentenceBoundaries = re.compile(r'(.+?\\.\"?) ')\n",
      "split = sentenceBoundaries.split(healthcare) #splits on each period with zero or one quotation marks after each\n",
      "#!!! Ah, ok. This is a good solution, \n",
      "#!!! but the problem asked you to split the final punctuation out as a seperate item and put it all back together\n",
      "#!!! That's a much trickier problem than the approach employed here.\n",
      "       \n",
      "output = '\\n'.join(split) #joins the list entries with new lines between each of them\n",
      "\n",
      "print output"
     ],
     "language": "python",
     "metadata": {},
     "outputs": [
      {
       "output_type": "stream",
       "stream": "stdout",
       "text": [
        "\n",
        "As the pitchman for his landmark healthcare law, President Obama promised to make buying insurance as easy as buying a plane ticket online or a \"TV on Amazon.\"\n",
        "\n",
        "It would be simple, he said.\n",
        "\n",
        "If there were problems, the president predicted, they would be \"glitches.\"\n",
        "\n",
        "And he said, \"If you like the plan you have, you can keep it.\"\n",
        "\n",
        "Such claims have come back to haunt the president and his allies less than a month into the launch of the online insurance marketplaces at the heart of his healthcare legislation.\n",
        "\n",
        "With the federal website hobbled by bad design and thousands of policyholders receiving cancellation notices, Obama's promises are not being met \u2014 prompting charges of deception from some Republicans and concessions from some allies that elements of the law were oversold.\n",
        "\n",
        "The fallout is only the latest chapter in this White House's three-year struggle to sell the public on the Affordable Care Act, which could come to define the president's legacy.\n",
        "\n",
        "Since signing it into law, the president has variously defended it, promoted it, simplified it and hyped it.\n",
        "\n",
        "But polling shows he has never fully sold, nor educated, the public on the vast new government healthcare program.\n",
        "\n",
        "Publicly, the White House continued Tuesday to defend the president's pre-launch salesmanship.\n",
        "\n",
        "\"The purpose here wasn't to do anything beyond encourage people to make themselves aware of the options available to them,\" White House Press Secretary Jay Carney said.\n",
        "\n",
        "Behind closed doors, some officials who worked on the rollout say they wish they'd left themselves a little wiggle room.\n",
        "\n",
        "They could have done more to play up ways to sign up other than through the website, such as the call centers, said one official, requesting anonymity to discuss the planning process.\n",
        "\n",
        "After taking heat from allies for not finding a crisp way to explain the complex law, the White House tried to boil it down to its simplest elements, the official said, and some nuance was inevitably lost.\n",
        "\n",
        "The first administration official to testify before Congress on the matter apologized Tuesday, saying, \"the website has not worked as well as it should.\"\n",
        "\n",
        "\"This initial experience has not lived up to our expectations or the expectations of the American people, and it is not acceptable,\" Marilyn Tavenner, the head of the federal Centers for Medicare and Medicaid Services, told the House Ways and Means Committee.\n",
        "\n",
        "Tavenner's agency oversaw the development of the site, intended to link consumers with affordable private health insurance plans that meet standards outlined in the 2010 law.\n",
        "Tavenner vowed that the site would be running smoothly by the end of November, in time for consumers to enroll before the new year.\n"
       ]
      }
     ],
     "prompt_number": 11
    },
    {
     "cell_type": "code",
     "collapsed": false,
     "input": [],
     "language": "python",
     "metadata": {},
     "outputs": []
    }
   ],
   "metadata": {}
  }
 ]
}